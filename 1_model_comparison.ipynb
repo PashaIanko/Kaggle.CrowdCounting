{
  "nbformat": 4,
  "nbformat_minor": 0,
  "metadata": {
    "colab": {
      "provenance": [],
      "toc_visible": true,
      "authorship_tag": "ABX9TyP6gWB3LrSgIgx/bF0YWEai",
      "include_colab_link": true
    },
    "kernelspec": {
      "name": "python3",
      "display_name": "Python 3"
    },
    "language_info": {
      "name": "python"
    },
    "gpuClass": "standard"
  },
  "cells": [
    {
      "cell_type": "markdown",
      "metadata": {
        "id": "view-in-github",
        "colab_type": "text"
      },
      "source": [
        "<a href=\"https://colab.research.google.com/github/PashaIanko/Kaggle.CrowdCounting/blob/saving_training_output/1_model_comparison.ipynb\" target=\"_parent\"><img src=\"https://colab.research.google.com/assets/colab-badge.svg\" alt=\"Open In Colab\"/></a>"
      ]
    },
    {
      "cell_type": "markdown",
      "source": [
        "# Imports"
      ],
      "metadata": {
        "id": "neuR_JGoSki5"
      }
    },
    {
      "cell_type": "code",
      "execution_count": 132,
      "metadata": {
        "id": "yVusG7IwSfWU"
      },
      "outputs": [],
      "source": [
        "from tensorflow.keras.preprocessing.image import ImageDataGenerator\n",
        "from google.colab import drive\n",
        "import os\n",
        "import pandas as pd\n",
        "import numpy as np\n",
        "import matplotlib.pyplot as plt\n",
        "from sklearn.model_selection import train_test_split\n",
        "from abc import ABC, abstractmethod\n",
        "import pandas as pd"
      ]
    },
    {
      "cell_type": "markdown",
      "source": [
        "# PEP8 standard"
      ],
      "metadata": {
        "id": "7qM_UgFLSqcF"
      }
    },
    {
      "cell_type": "code",
      "source": [
        "%%capture \n",
        "try: \n",
        "    from nbpep8.nbpep8 import pep8 \n",
        "except ModuleNotFoundError: \n",
        "    !pip install pycodestyle \n",
        "    !pip install --index-url https://test.pypi.org/simple/ nbpep8\n",
        "from nbpep8.nbpep8 import pep8"
      ],
      "metadata": {
        "id": "n3jjfuPNSrY4"
      },
      "execution_count": 2,
      "outputs": []
    },
    {
      "cell_type": "markdown",
      "source": [
        "# Custom packages"
      ],
      "metadata": {
        "id": "Dr5iOQgfStF9"
      }
    },
    {
      "cell_type": "code",
      "source": [
        "%%capture\n",
        "def download_files(url_dict):\n",
        "    for file, url in url_dict.items():\n",
        "        print(f'Downloading {file}')\n",
        "        !wget -O {file} {url} {file}\n",
        "\n",
        "git_download_path = \\\n",
        "'https://raw.githubusercontent.com/PashaIanko/Sklearn-Utils/main/'\n",
        "\n",
        "files = [\n",
        "    'path_manager.py',\n",
        "    'sklearn_transformers.py',\n",
        "    'sklearn_utils.py'\n",
        "]\n",
        "\n",
        "url_dict = {file: git_download_path + file for file in files}\n",
        "download_files(url_dict)"
      ],
      "metadata": {
        "id": "cv1XS4e8SsSj"
      },
      "execution_count": 3,
      "outputs": []
    },
    {
      "cell_type": "code",
      "source": [
        "import importlib\n",
        "import path_manager\n",
        "import sklearn_utils\n",
        "\n",
        "def reload_all(modules_list_):\n",
        "    for module in modules_list_:\n",
        "        importlib.reload(module)\n",
        "\n",
        "reload_all(\n",
        "    [\n",
        "        path_manager,\n",
        "        sklearn_utils\n",
        "        # other modules\n",
        "    ]\n",
        ")\n",
        "\n",
        "from path_manager import PathManager"
      ],
      "metadata": {
        "id": "_RDScb8wSvVT"
      },
      "execution_count": 4,
      "outputs": []
    },
    {
      "cell_type": "markdown",
      "source": [
        "# Setup paths"
      ],
      "metadata": {
        "id": "ZkKxmfS9SznR"
      }
    },
    {
      "cell_type": "code",
      "source": [
        "drive.mount('/content/gdrive', force_remount=True)\n",
        "gdrive_path = '/content/gdrive/MyDrive/'\n",
        "\n",
        "PREPROC_TRIAL = 1\n",
        "MODELS_TRIAL = 1\n",
        "COMPETITION_PATH = gdrive_path + 'ML/Competitions/7.CrowdCounting/'\n",
        "\n",
        "manager = PathManager(\n",
        "    competition_path=COMPETITION_PATH,\n",
        "    preprocessing_trial=PREPROC_TRIAL,\n",
        "    models_trial=MODELS_TRIAL\n",
        ")\n",
        "\n",
        "manager.setup_paths()"
      ],
      "metadata": {
        "colab": {
          "base_uri": "https://localhost:8080/"
        },
        "id": "CGZstgihSwbl",
        "outputId": "6dc9c996-043d-4ab1-f630-41ad354d54a4"
      },
      "execution_count": 5,
      "outputs": [
        {
          "output_type": "stream",
          "name": "stdout",
          "text": [
            "Mounted at /content/gdrive\n",
            "/content/gdrive/MyDrive/ML/Competitions/7.CrowdCounting/Data/preproc_trial_1 already exists\n",
            "/content/gdrive/MyDrive/ML/Competitions/7.CrowdCounting/Models/trial_1 already exists\n"
          ]
        }
      ]
    },
    {
      "cell_type": "markdown",
      "source": [
        "# Helper functions"
      ],
      "metadata": {
        "id": "EEhgFmlqS9at"
      }
    },
    {
      "cell_type": "code",
      "source": [
        "from keras import backend as K\n",
        "from keras.utils.layer_utils import count_params\n",
        "\n",
        "def count_parameters(model):\n",
        "    trainable_count = count_params(model.trainable_weights)\n",
        "    non_trainable_count = count_params(model.non_trainable_weights)\n",
        "    \n",
        "    return {\n",
        "        'Total parameters': trainable_count + non_trainable_count,\n",
        "        'Trainable parameters': trainable_count,\n",
        "        'Non-trainable parameters': non_trainable_count\n",
        "    }"
      ],
      "metadata": {
        "id": "z-pCnSLMS6hH"
      },
      "execution_count": 128,
      "outputs": []
    },
    {
      "cell_type": "code",
      "source": [
        "def plot_history(csv_filepaths_dict_, metrics_):\n",
        "    _, ax = plt.subplots()\n",
        "\n",
        "    for model_name, path in csv_filepaths_dict_.items():\n",
        "        assert os.path.isfile(path)\n",
        "        df = pd.read_csv(path)\n",
        "        ax.plot(df[metrics_], label=f'{model_name} {metrics_}')\n",
        "        ax.plot(df[f'val_{metrics_}'], label=f'{model_name} val_{metrics_}')\n",
        "    \n",
        "    ax.set_ylabel(f'Learning curve for {metrics_}')\n",
        "    ax.set_xlabel(f'Epoch')\n",
        "    ax.grid()\n",
        "    ax.legend()"
      ],
      "metadata": {
        "id": "0WPDUdzsnTkW"
      },
      "execution_count": 129,
      "outputs": []
    },
    {
      "cell_type": "code",
      "source": [
        "def collect_comparison_data(models_dict_):\n",
        "    validation_results = {}\n",
        "    model_parameters = {}\n",
        "\n",
        "    for model_name, model_object in MODELS.items():\n",
        "        print(f'Working with {model_name}')\n",
        "\n",
        "        model_object.prepare_model()\n",
        "        model_object.compile_model()\n",
        "\n",
        "        model_object.model.load_weights(\n",
        "            os.path.join(\n",
        "                manager.models_trial_path,\n",
        "                model_object.name,\n",
        "                model_object.name\n",
        "            )\n",
        "        )\n",
        "        validation_results[model_name] = model_object.model.evaluate(\n",
        "            model_object.validation_generator\n",
        "        )\n",
        "        model_parameters[model_name] = count_parameters(model_object.model)\n",
        "        \n",
        "    return {\n",
        "        'validation_results': validation_results,\n",
        "        'model_parameters': model_parameters\n",
        "    }"
      ],
      "metadata": {
        "id": "dcfl1oP6noEB"
      },
      "execution_count": 130,
      "outputs": []
    },
    {
      "cell_type": "code",
      "source": [
        "def plot_validation_results(validation_performance_dict_):\n",
        "    mae_dict = {\n",
        "        model_name: [data[2]] \\\n",
        "        for model_name, data in validation_performance_dict_.items()\n",
        "    }\n",
        "    \n",
        "    df = pd.DataFrame(mae_dict, index=None)\n",
        "    df = df.T\n",
        "    print(df)\n",
        "    df = df.sort_values(by=0)\n",
        "    \n",
        "    ax = df.plot(kind='bar')\n",
        "    ax.set_ylabel('Mean absolute error')\n",
        "    ax.set_xlabel('Model')\n",
        "    ax.set_title('Validation performance of baseline models')\n",
        "    ax.get_legend().remove()\n",
        "    ax.grid()"
      ],
      "metadata": {
        "id": "vkGEQbAknvjE"
      },
      "execution_count": 131,
      "outputs": []
    },
    {
      "cell_type": "code",
      "source": [
        "def plot_model_parameters(parameters_dict_):\n",
        "    total_parameters_dict = {\n",
        "        model_name: [model_dict['Total parameters']] \\\n",
        "        for model_name, model_dict in parameters_dict_.items()\n",
        "    }\n",
        "\n",
        "    trainable_parameters_dict = {\n",
        "        model_name: [model_dict['Trainable parameters']] \\\n",
        "        for model_name, model_dict in parameters_dict_.items()\n",
        "    }\n",
        "\n",
        "    _, ax = plt.subplots(1, 2, figsize=(9, 5))\n",
        "    \n",
        "    df_total_parameters = pd.DataFrame(total_parameters_dict)\n",
        "    df_total_parameters = df_total_parameters.T\n",
        "    df_total_parameters.sort_values(by=0, inplace=True)\n",
        "    df_total_parameters.plot(kind='bar', ax=ax[0])\n",
        "    ax[0].set_title('Total number of model parameters')\n",
        "    ax[0].grid()\n",
        "    ax[0].get_legend().remove()\n",
        "\n",
        "    df_trainable_parameters = pd.DataFrame(trainable_parameters_dict)\n",
        "    df_trainable_parameters = df_trainable_parameters.T\n",
        "    df_trainable_parameters.sort_values(by=0, inplace=True)\n",
        "    df_trainable_parameters.plot(kind='bar', ax=ax[1])\n",
        "    ax[1].set_title(\n",
        "        'Number of trainable parameters' \\\n",
        "        + '\\nfor baseline ' \\\n",
        "        + 'models\\n(with 7 top layers freezed)'\n",
        "    )\n",
        "    ax[1].grid()\n",
        "    ax[1].get_legend().remove()\n",
        "\n",
        "    plt.tight_layout()"
      ],
      "metadata": {
        "id": "vYdJOoC2oAau"
      },
      "execution_count": 133,
      "outputs": []
    },
    {
      "cell_type": "markdown",
      "source": [
        "# Data split"
      ],
      "metadata": {
        "id": "fWzz3eYVTC9j"
      }
    },
    {
      "cell_type": "code",
      "source": [
        "frames_directory = os.path.join(manager.data_root_path, 'frames')\n",
        "labels_df = pd.read_csv(os.path.join(manager.data_root_path, 'labels.csv'))\n",
        "labels_df['image_name'] = labels_df['id'].map('seq_{:06d}.jpg'.format)\n",
        "print(labels_df.head(1))"
      ],
      "metadata": {
        "colab": {
          "base_uri": "https://localhost:8080/"
        },
        "id": "-5KTBAI5TD0q",
        "outputId": "a681e08a-4f08-4194-98d6-1e3de7a00352"
      },
      "execution_count": 6,
      "outputs": [
        {
          "output_type": "stream",
          "name": "stdout",
          "text": [
            "   id  count      image_name\n",
            "0   1     35  seq_000001.jpg\n"
          ]
        }
      ]
    },
    {
      "cell_type": "code",
      "source": [
        "TRAINVAL_SIZE = 0.2  # 0.8\n",
        "RANDOM_STATE = 42\n",
        "\n",
        "trainval_labels_df, test_labels_df = train_test_split(\n",
        "    labels_df,\n",
        "    train_size=TRAINVAL_SIZE,\n",
        "    random_state=RANDOM_STATE,\n",
        ")\n",
        "trainval_labels_df.shape, test_labels_df.shape"
      ],
      "metadata": {
        "colab": {
          "base_uri": "https://localhost:8080/"
        },
        "id": "6eQnulCETFGW",
        "outputId": "d789d6f0-03f0-4912-a25f-b817c87e5392"
      },
      "execution_count": 7,
      "outputs": [
        {
          "output_type": "execute_result",
          "data": {
            "text/plain": [
              "((400, 3), (1600, 3))"
            ]
          },
          "metadata": {},
          "execution_count": 7
        }
      ]
    },
    {
      "cell_type": "markdown",
      "source": [
        "# Classes definition"
      ],
      "metadata": {
        "id": "juSMgE8UTZ6B"
      }
    },
    {
      "cell_type": "code",
      "source": [
        "from tensorflow.keras.models import Model\n",
        "\n",
        "class NNModel(ABC):\n",
        "    def __init__(\n",
        "        self,\n",
        "        name_,\n",
        "        input_image_size_,\n",
        "        validation_split_,\n",
        "        batch_size_,\n",
        "        trainval_labels_df_,\n",
        "        test_labels_df_\n",
        "    ):\n",
        "        self.random_state = 42\n",
        "        self.name = name_\n",
        "        self.input_image_size = input_image_size_\n",
        "        self.validation_split = validation_split_\n",
        "        self.batch_size = batch_size_\n",
        "\n",
        "\n",
        "        self.data_generator_parameters = None\n",
        "        self.train_generator = None\n",
        "        self.validation_generator = None\n",
        "        self.test_generator = None\n",
        "        self.model = None\n",
        "        self.init_data_generator_parameters()\n",
        "        self.init_data_generators(\n",
        "            trainval_labels_df_,\n",
        "            test_labels_df_\n",
        "        )\n",
        "    \n",
        "    def __repr__(self):\n",
        "        return f'''\n",
        "            {\n",
        "                self.random_state,\n",
        "                self.name,\n",
        "                self.input_image_size,\n",
        "                self.validation_split,\n",
        "                self.batch_size\n",
        "            }\n",
        "        '''\n",
        "    @abstractmethod\n",
        "    def init_data_generator_parameters(self):\n",
        "        # Augmentation / preprocessing parameters\n",
        "        pass\n",
        "    \n",
        "    def init_data_generators(self, trainval_labels_df_, test_labels_df_):\n",
        "        trainval_data_generator = ImageDataGenerator(\n",
        "            **self.data_generator_parameters,\n",
        "            validation_split=self.validation_split)\n",
        "\n",
        "        test_data_generator = ImageDataGenerator(\n",
        "            **self.data_generator_parameters)\n",
        "        \n",
        "        common_flow_params = dict(\n",
        "            directory=frames_directory,\n",
        "            x_col='image_name',\n",
        "            y_col='count',\n",
        "            target_size=self.input_image_size,\n",
        "            color_mode='rgb',\n",
        "            class_mode='raw',\n",
        "            batch_size=self.batch_size,\n",
        "            shuffle=True,\n",
        "            seed=self.random_state\n",
        "        )\n",
        "\n",
        "        self.train_generator = trainval_data_generator.flow_from_dataframe(\n",
        "            **common_flow_params,\n",
        "            subset='training',\n",
        "            dataframe=trainval_labels_df_\n",
        "        )\n",
        "\n",
        "        self.validation_generator = trainval_data_generator.flow_from_dataframe(\n",
        "            **common_flow_params,\n",
        "            subset='validation',\n",
        "            dataframe=trainval_labels_df_\n",
        "        )\n",
        "\n",
        "        self.test_generator = test_data_generator.flow_from_dataframe(\n",
        "            **common_flow_params,\n",
        "            dataframe=test_labels_df_\n",
        "        )\n",
        "\n",
        "    def visualize_data(self):\n",
        "        X_batch, Y_batch = next(self.train_generator)\n",
        "        print(X_batch.shape, np.max(X_batch), np.min(X_batch))\n",
        "\n",
        "        _, ax = plt.subplots(3, 3)\n",
        "        ax = ax.flatten()\n",
        "        for i in range(9):\n",
        "            ax[i].imshow(X_batch[i])\n",
        "            ax[i].set_title(Y_batch[i])\n",
        "            ax[i].axis('off')\n",
        "\n",
        "        _, ax_hist = plt.subplots()\n",
        "        ax.hist.hist(Y_batch)\n",
        "        \n",
        "    @abstractmethod\n",
        "    def prepare_model(self):\n",
        "        pass\n",
        "\n",
        "    def compile_model(self):\n",
        "        self.model.compile(\n",
        "            optimizer=tf.keras.optimizers.Adam(learning_rate=0.001),\n",
        "            loss='mse',\n",
        "            metrics=['mse', 'mae']\n",
        "        )\n",
        "\n",
        "    def unfreeze_n_layers(self, n_layers_to_freeze_):\n",
        "        assert n_layers_to_freeze_ > 0\n",
        "\n",
        "        for layer in self.model.layers[:-n_layers_to_freeze_]:\n",
        "            layer.trainable = False\n",
        "        for layer in self.model.layers[-n_layers_to_freeze_:]:\n",
        "            layer.trainable = True\n",
        "    \n",
        "    def fit(self, epochs_, callbacks_):\n",
        "        self.learning_history = self.model.fit_generator(\n",
        "            self.train_generator,\n",
        "            validation_data=self.validation_generator,\n",
        "            epochs=epochs_,\n",
        "            callbacks=callbacks_\n",
        "        )\n",
        "        return self.learning_history"
      ],
      "metadata": {
        "id": "vjE28uf3TQHa"
      },
      "execution_count": 8,
      "outputs": []
    },
    {
      "cell_type": "markdown",
      "source": [
        "## Resnet"
      ],
      "metadata": {
        "id": "tMpMtJJpdGRR"
      }
    },
    {
      "cell_type": "code",
      "source": [
        "from tensorflow.keras.applications import resnet50\n",
        "import tensorflow as tf\n",
        "from tensorflow.keras.layers import (\n",
        "    Dense,\n",
        "    Dropout,\n",
        "    Flatten,\n",
        "\n",
        ")\n",
        "\n",
        "class ResNetModel(NNModel):\n",
        "    def __init__(self, *args, **kwargs):\n",
        "        super().__init__(*args, **kwargs)\n",
        "    \n",
        "    def init_data_generator_parameters(self):\n",
        "        \n",
        "        self.data_generator_parameters = dict(\n",
        "            rescale=None,  # 1./255,\n",
        "            preprocessing_function=tf.keras.applications.resnet50.preprocess_input\n",
        "        )\n",
        "    \n",
        "    def prepare_model(self):\n",
        "        feature_extractor = resnet50.ResNet50(\n",
        "            weights='imagenet',\n",
        "            pooling='avg',\n",
        "            input_shape=(224, 224, 3),\n",
        "            include_top=False\n",
        "        )\n",
        "        x = feature_extractor.output\n",
        "        x = Dense(units=400, activation='relu')(x)\n",
        "        x = Dropout(0.3)(x)\n",
        "        x = Dense(units=400, activation='relu')(x)\n",
        "        x = Dropout(0.3)(x)\n",
        "        outputs = Dense(units=1, activation='linear')(x)\n",
        "\n",
        "        self.model = Model(\n",
        "            inputs=feature_extractor.input,\n",
        "            outputs=outputs\n",
        "        )"
      ],
      "metadata": {
        "id": "QDhcM5UCTkkE"
      },
      "execution_count": 9,
      "outputs": []
    },
    {
      "cell_type": "markdown",
      "source": [
        "## Xception"
      ],
      "metadata": {
        "id": "oSRBPIeGdLGN"
      }
    },
    {
      "cell_type": "code",
      "source": [
        "from tensorflow.keras.applications.xception import Xception\n",
        "\n",
        "\n",
        "class XceptionModel(NNModel):\n",
        "    def __init__(self, *args, **kwargs):\n",
        "        super().__init__(*args, **kwargs)\n",
        "    \n",
        "    def init_data_generator_parameters(self):\n",
        "        \n",
        "        self.data_generator_parameters = dict(\n",
        "            rescale=None,  # 1./255,\n",
        "            preprocessing_function=tf.keras.applications.xception.preprocess_input\n",
        "        )\n",
        "    \n",
        "    def prepare_model(self):\n",
        "        feature_extractor = Xception(\n",
        "            weights='imagenet',\n",
        "            pooling='avg',\n",
        "            input_shape=(299, 299, 3),\n",
        "            include_top=False\n",
        "        )\n",
        "        x = feature_extractor.output\n",
        "        x = Dense(units=400, activation='relu')(x)\n",
        "        x = Dropout(0.3)(x)\n",
        "        x = Dense(units=400, activation='relu')(x)\n",
        "        x = Dropout(0.3)(x)\n",
        "        outputs = Dense(units=1, activation='linear')(x)\n",
        "\n",
        "        self.model = Model(\n",
        "            inputs=feature_extractor.input,\n",
        "            outputs=outputs\n",
        "        )"
      ],
      "metadata": {
        "id": "IGwJgghhdS5I"
      },
      "execution_count": 28,
      "outputs": []
    },
    {
      "cell_type": "markdown",
      "source": [
        "## Inception V3"
      ],
      "metadata": {
        "id": "K4DCM9x6dMSx"
      }
    },
    {
      "cell_type": "code",
      "source": [
        "from tensorflow.keras.applications.inception_v3 import InceptionV3\n",
        "\n",
        "\n",
        "class InceptionV3Model(NNModel):\n",
        "    def __init__(self, *args, **kwargs):\n",
        "        super().__init__(*args, **kwargs)\n",
        "    \n",
        "    def init_data_generator_parameters(self):\n",
        "        \n",
        "        self.data_generator_parameters = dict(\n",
        "            rescale=None,\n",
        "            preprocessing_function=tf.keras.applications.inception_v3.preprocess_input\n",
        "        )\n",
        "    \n",
        "    def prepare_model(self):\n",
        "        feature_extractor = InceptionV3(\n",
        "            weights='imagenet',\n",
        "            pooling='avg',\n",
        "            input_shape=(299, 299, 3),\n",
        "            include_top=False\n",
        "        )\n",
        "        x = feature_extractor.output\n",
        "        x = Dense(units=400, activation='relu')(x)\n",
        "        x = Dropout(0.3)(x)\n",
        "        x = Dense(units=400, activation='relu')(x)\n",
        "        x = Dropout(0.3)(x)\n",
        "        outputs = Dense(units=1, activation='linear')(x)\n",
        "\n",
        "        self.model = Model(\n",
        "            inputs=feature_extractor.input,\n",
        "            outputs=outputs\n",
        "        )"
      ],
      "metadata": {
        "id": "zil9NH7tdXkD"
      },
      "execution_count": 29,
      "outputs": []
    },
    {
      "cell_type": "markdown",
      "source": [
        "## Inception Resnet V2"
      ],
      "metadata": {
        "id": "hVwFlTXgdOQ4"
      }
    },
    {
      "cell_type": "code",
      "source": [
        "from tensorflow.keras.applications.inception_resnet_v2 import InceptionResNetV2\n",
        "\n",
        "\n",
        "class InceptionResnetV2Model(NNModel):\n",
        "    def __init__(self, *args, **kwargs):\n",
        "        super().__init__(*args, **kwargs)\n",
        "    \n",
        "    def init_data_generator_parameters(self):\n",
        "        \n",
        "        self.data_generator_parameters = dict(\n",
        "            rescale=None,\n",
        "            preprocessing_function=tf.\\\n",
        "                keras.\\\n",
        "                applications.\\\n",
        "                inception_resnet_v2.\\\n",
        "                preprocess_input\n",
        "        )\n",
        "    \n",
        "    def prepare_model(self):\n",
        "        feature_extractor = InceptionResNetV2(\n",
        "            weights='imagenet',\n",
        "            pooling='avg',\n",
        "            input_shape=(299, 299, 3),\n",
        "            include_top=False\n",
        "        )\n",
        "        x = feature_extractor.output\n",
        "        x = Dense(units=400, activation='relu')(x)\n",
        "        x = Dropout(0.3)(x)\n",
        "        x = Dense(units=400, activation='relu')(x)\n",
        "        x = Dropout(0.3)(x)\n",
        "        outputs = Dense(units=1, activation='linear')(x)\n",
        "\n",
        "        self.model = Model(\n",
        "            inputs=feature_extractor.input,\n",
        "            outputs=outputs\n",
        "        )"
      ],
      "metadata": {
        "id": "ilOK4s-Adav5"
      },
      "execution_count": 30,
      "outputs": []
    },
    {
      "cell_type": "markdown",
      "source": [
        "## VGG16"
      ],
      "metadata": {
        "id": "gejwHXs7dQKq"
      }
    },
    {
      "cell_type": "code",
      "source": [
        "from tensorflow.keras.applications.vgg16 import VGG16\n",
        "\n",
        "\n",
        "class VGG16Model(NNModel):\n",
        "    def __init__(self, *args, **kwargs):\n",
        "        super().__init__(*args, **kwargs)\n",
        "    \n",
        "    def init_data_generator_parameters(self):\n",
        "        print(f'VGG16: init data generator parameters')\n",
        "        self.data_generator_parameters = dict(\n",
        "            rescale=None,\n",
        "            preprocessing_function=tf.keras.applications.vgg16.preprocess_input\n",
        "        )\n",
        "    \n",
        "    def prepare_model(self):\n",
        "        feature_extractor = VGG16(\n",
        "            weights='imagenet',\n",
        "            pooling='avg',\n",
        "            input_shape=(224, 224, 3),\n",
        "            include_top=False\n",
        "        )\n",
        "        x = feature_extractor.output\n",
        "        x = Dense(units=400, activation='relu')(x)\n",
        "        x = Dropout(0.3)(x)\n",
        "        x = Dense(units=400, activation='relu')(x)\n",
        "        x = Dropout(0.3)(x)\n",
        "        outputs = Dense(units=1, activation='linear')(x)\n",
        "\n",
        "        self.model = Model(\n",
        "            inputs=feature_extractor.input,\n",
        "            outputs=outputs\n",
        "        )"
      ],
      "metadata": {
        "id": "2UY4ou5gdcyb"
      },
      "execution_count": 31,
      "outputs": []
    },
    {
      "cell_type": "markdown",
      "source": [
        "## VGG19"
      ],
      "metadata": {
        "id": "Xr4Bsi5LdRzl"
      }
    },
    {
      "cell_type": "code",
      "source": [
        "from tensorflow.keras.applications.vgg19 import VGG19\n",
        "\n",
        "\n",
        "class VGG19Model(NNModel):\n",
        "    def __init__(self, *args, **kwargs):\n",
        "        super().__init__(*args, **kwargs)\n",
        "\n",
        "    def init_data_generator_parameters(self):\n",
        "        self.data_generator_parameters = dict(\n",
        "            rescale=None,\n",
        "            preprocessing_function=\\\n",
        "                tf.keras.applications.vgg19.preprocess_input\n",
        "        )\n",
        "\n",
        "    def prepare_model(self):\n",
        "        feature_extractor = VGG19(\n",
        "            weights='imagenet',\n",
        "            pooling='avg',\n",
        "            input_shape=(224, 224, 3),\n",
        "            include_top=False\n",
        "        )\n",
        "        x = feature_extractor.output\n",
        "        x = Dense(units=400, activation='relu')(x)\n",
        "        x = Dropout(0.3)(x)\n",
        "        x = Dense(units=400, activation='relu')(x)\n",
        "        x = Dropout(0.3)(x)\n",
        "        outputs = Dense(units=1, activation='linear')(x)\n",
        "\n",
        "        self.model = Model(\n",
        "            inputs=feature_extractor.input,\n",
        "            outputs=outputs\n",
        "        )"
      ],
      "metadata": {
        "id": "RQvFRdnRdfIo"
      },
      "execution_count": 32,
      "outputs": []
    },
    {
      "cell_type": "markdown",
      "source": [
        "# Comparison of validation performance"
      ],
      "metadata": {
        "id": "HcflYHf8doiH"
      }
    },
    {
      "cell_type": "code",
      "source": [
        "common_params = dict(\n",
        "    validation_split_=0.2,\n",
        "    batch_size_=64,\n",
        "    trainval_labels_df_=trainval_labels_df,\n",
        "    test_labels_df_=test_labels_df\n",
        ")\n",
        "\n",
        "MODELS = {\n",
        "    'resnet': ResNetModel(\n",
        "        name_='resnet',\n",
        "        input_image_size_=(224, 224),\n",
        "        **common_params\n",
        "    ),\n",
        "    'xception': XceptionModel(\n",
        "        name_='xception',\n",
        "        input_image_size_=(299, 299),\n",
        "        **common_params\n",
        "    ),\n",
        "    'inception_v3': InceptionV3Model(\n",
        "        name_='inception_v3',\n",
        "        input_image_size_=(299, 299),\n",
        "        **common_params\n",
        "    )\n",
        "\n",
        "}"
      ],
      "metadata": {
        "colab": {
          "base_uri": "https://localhost:8080/"
        },
        "id": "411Hzvq9drQz",
        "outputId": "1da5835c-02c0-461c-e3a2-4fec585bd837"
      },
      "execution_count": 75,
      "outputs": [
        {
          "output_type": "stream",
          "name": "stdout",
          "text": [
            "Found 320 validated image filenames.\n",
            "Found 80 validated image filenames.\n",
            "Found 1600 validated image filenames.\n",
            "Found 320 validated image filenames.\n",
            "Found 80 validated image filenames.\n",
            "Found 1600 validated image filenames.\n",
            "Found 320 validated image filenames.\n",
            "Found 80 validated image filenames.\n",
            "Found 1600 validated image filenames.\n"
          ]
        }
      ]
    },
    {
      "cell_type": "code",
      "source": [
        "comparison_data = collect_comparison_data(MODELS)"
      ],
      "metadata": {
        "colab": {
          "base_uri": "https://localhost:8080/"
        },
        "id": "jlooHFcLf83B",
        "outputId": "62f543e6-3898-45f3-fde7-410afd5c99a4"
      },
      "execution_count": 101,
      "outputs": [
        {
          "output_type": "stream",
          "name": "stdout",
          "text": [
            "Working with resnet\n",
            "2/2 [==============================] - 19s 4s/step - loss: 8.1138 - mse: 8.1138 - mae: 2.2562\n",
            "Working with xception\n",
            "2/2 [==============================] - 53s 8s/step - loss: 9.3450 - mse: 9.3450 - mae: 2.3724\n",
            "Working with inception_v3\n",
            "2/2 [==============================] - 24s 4s/step - loss: 8.4677 - mse: 8.4677 - mae: 2.2880\n"
          ]
        }
      ]
    },
    {
      "cell_type": "code",
      "source": [
        "comparison_data"
      ],
      "metadata": {
        "colab": {
          "base_uri": "https://localhost:8080/"
        },
        "id": "cActu2GOgQea",
        "outputId": "4f0c10f9-e038-4b2c-fec4-559ac4add7f4"
      },
      "execution_count": 102,
      "outputs": [
        {
          "output_type": "execute_result",
          "data": {
            "text/plain": [
              "{'validation_results': {'resnet': [8.113812446594238,\n",
              "   8.113812446594238,\n",
              "   2.256220579147339],\n",
              "  'xception': [9.344964981079102, 9.344964981079102, 2.3723535537719727],\n",
              "  'inception_v3': [8.467727661132812, 8.467727661132812, 2.288046360015869]},\n",
              " 'model_parameters': {'resnet': {'Total parameters': 24568113,\n",
              "   'Trainable parameters': 980401,\n",
              "   'Non-trainable parameters': 23587712},\n",
              "  'xception': {'Total parameters': 21841881,\n",
              "   'Trainable parameters': 980401,\n",
              "   'Non-trainable parameters': 20861480},\n",
              "  'inception_v3': {'Total parameters': 22783185,\n",
              "   'Trainable parameters': 980401,\n",
              "   'Non-trainable parameters': 21802784}}}"
            ]
          },
          "metadata": {},
          "execution_count": 102
        }
      ]
    },
    {
      "cell_type": "code",
      "source": [
        "plot_validation_results(comparison_data['validation_results'])"
      ],
      "metadata": {
        "colab": {
          "base_uri": "https://localhost:8080/",
          "height": 418
        },
        "id": "zLYIgmXPgotj",
        "outputId": "91883ec9-c8be-42ad-93b3-8e82817756ff"
      },
      "execution_count": 108,
      "outputs": [
        {
          "output_type": "stream",
          "name": "stdout",
          "text": [
            "                     0\n",
            "resnet        2.256221\n",
            "xception      2.372354\n",
            "inception_v3  2.288046\n"
          ]
        },
        {
          "output_type": "display_data",
          "data": {
            "text/plain": [
              "<Figure size 432x288 with 1 Axes>"
            ],
            "image/png": "[encoded data removed]"
          },
          "metadata": {
            "needs_background": "light"
          }
        }
      ]
    },
    {
      "cell_type": "markdown",
      "source": [
        "# Comparison of model parameters"
      ],
      "metadata": {
        "id": "6aJATZtonIhC"
      }
    },
    {
      "cell_type": "code",
      "source": [
        "comparison_data['model_parameters']"
      ],
      "metadata": {
        "colab": {
          "base_uri": "https://localhost:8080/"
        },
        "id": "5uacAxgkkDuL",
        "outputId": "0276217c-cce7-4c41-97ef-c0eebff93000"
      },
      "execution_count": 109,
      "outputs": [
        {
          "output_type": "execute_result",
          "data": {
            "text/plain": [
              "{'resnet': {'Total parameters': 24568113,\n",
              "  'Trainable parameters': 980401,\n",
              "  'Non-trainable parameters': 23587712},\n",
              " 'xception': {'Total parameters': 21841881,\n",
              "  'Trainable parameters': 980401,\n",
              "  'Non-trainable parameters': 20861480},\n",
              " 'inception_v3': {'Total parameters': 22783185,\n",
              "  'Trainable parameters': 980401,\n",
              "  'Non-trainable parameters': 21802784}}"
            ]
          },
          "metadata": {},
          "execution_count": 109
        }
      ]
    },
    {
      "cell_type": "code",
      "source": [
        "plot_model_parameters(comparison_data['model_parameters'])"
      ],
      "metadata": {
        "colab": {
          "base_uri": "https://localhost:8080/",
          "height": 369
        },
        "id": "rctRRSeOk9iu",
        "outputId": "d454c112-ef64-4357-c3f3-3431fcf09748"
      },
      "execution_count": 134,
      "outputs": [
        {
          "output_type": "display_data",
          "data": {
            "text/plain": [
              "<Figure size 648x360 with 2 Axes>"
            ],
            "image/png": "[encoded data removed]"
          },
          "metadata": {
            "needs_background": "light"
          }
        }
      ]
    },
    {
      "cell_type": "markdown",
      "source": [
        "# Visualizing learning curves"
      ],
      "metadata": {
        "id": "Mh5N5nqznNBv"
      }
    },
    {
      "cell_type": "code",
      "source": [
        "plot_history(\n",
        "    {\n",
        "        'resnet': os.path.join(manager.models_trial_path, 'resnet.csv')\n",
        "    },\n",
        "    metrics_='loss'\n",
        ")"
      ],
      "metadata": {
        "colab": {
          "base_uri": "https://localhost:8080/",
          "height": 279
        },
        "id": "xmKkUvU1nOpj",
        "outputId": "02961bf8-d563-4c81-c5c0-457e8f89b928"
      },
      "execution_count": 135,
      "outputs": [
        {
          "output_type": "display_data",
          "data": {
            "text/plain": [
              "<Figure size 432x288 with 1 Axes>"
            ],
            "image/png": "[encoded data removed]"
          },
          "metadata": {
            "needs_background": "light"
          }
        }
      ]
    },
    {
      "cell_type": "code",
      "source": [
        "for model_name, model_object in MODELS.items():\n",
        "    plot_history(\n",
        "        {\n",
        "            model_object.name: os.path.join(\n",
        "                manager.models_trial_path, f'{model_object.name}.csv'\n",
        "            )\n",
        "        },\n",
        "        metrics_='mae'\n",
        "    )"
      ],
      "metadata": {
        "colab": {
          "base_uri": "https://localhost:8080/",
          "height": 803
        },
        "id": "FsE504mDoJXa",
        "outputId": "26c94e3f-156a-456b-bd2d-f44d0560b12c"
      },
      "execution_count": 138,
      "outputs": [
        {
          "output_type": "display_data",
          "data": {
            "text/plain": [
              "<Figure size 432x288 with 1 Axes>"
            ],
            "image/png": "[encoded data removed]"
          },
          "metadata": {
            "needs_background": "light"
          }
        },
        {
          "output_type": "display_data",
          "data": {
            "text/plain": [
              "<Figure size 432x288 with 1 Axes>"
            ],
            "image/png": "[encoded data removed]"
          },
          "metadata": {
            "needs_background": "light"
          }
        },
        {
          "output_type": "display_data",
          "data": {
            "text/plain": [
              "<Figure size 432x288 with 1 Axes>"
            ],
            "image/png": "[encoded data removed]"
          },
          "metadata": {
            "needs_background": "light"
          }
        }
      ]
    },
    {
      "cell_type": "markdown",
      "source": [
        "# Comparison of validation learning curves"
      ],
      "metadata": {
        "id": "RYTAmoESoxLX"
      }
    },
    {
      "cell_type": "code",
      "source": [
        "def compare_learning_curve(\n",
        "    csv_dict_,\n",
        "    metrics_\n",
        "):\n",
        "    _, ax = plt.subplots()\n",
        "    for model_name, csv_filepath in csv_dict_.items():\n",
        "        assert os.path.isfile(csv_filepath)\n",
        "        df = pd.read_csv(csv_filepath)\n",
        "        assert metrics_ in df.columns\n",
        "\n",
        "        data = df[metrics_]\n",
        "        ax.plot(data, label=model_name)\n",
        "    ax.legend()\n",
        "    ax.grid()\n",
        "\n",
        "    ax.set_xlabel('Epoch')\n",
        "    ax.set_ylabel(metrics_)\n",
        "    ax.set_title(f'{metrics_} VS epoch for baseline models')"
      ],
      "metadata": {
        "colab": {
          "base_uri": "https://localhost:8080/",
          "height": 295
        },
        "id": "p6ub115eoy0S",
        "outputId": "d23b72e7-cf72-4995-b51d-cf599a777f8f"
      },
      "execution_count": 144,
      "outputs": [
        {
          "output_type": "display_data",
          "data": {
            "text/plain": [
              "<Figure size 432x288 with 1 Axes>"
            ],
            "image/png": "[encoded data removed]"
          },
          "metadata": {
            "needs_background": "light"
          }
        }
      ]
    },
    {
      "cell_type": "code",
      "source": [
        "compare_learning_curve(\n",
        "    {\n",
        "        model_name: os.path.join(\n",
        "            manager.models_trial_path,\n",
        "            f'{model_object.name}.csv'\n",
        "        )\n",
        "        for model_name, model_object in MODELS.items()\n",
        "    },\n",
        "    metrics_='val_mae'\n",
        ")"
      ],
      "metadata": {
        "id": "ie_By8tesuRc",
        "outputId": "44a48b6f-7fdf-4411-c2e4-3a3cf3e778d4",
        "colab": {
          "base_uri": "https://localhost:8080/",
          "height": 295
        }
      },
      "execution_count": 145,
      "outputs": [
        {
          "output_type": "display_data",
          "data": {
            "text/plain": [
              "<Figure size 432x288 with 1 Axes>"
            ],
            "image/png": "[encoded data removed]"
          },
          "metadata": {
            "needs_background": "light"
          }
        }
      ]
    },
    {
      "cell_type": "code",
      "source": [
        "compare_learning_curve(\n",
        "    {\n",
        "        model_name: os.path.join(\n",
        "            manager.models_trial_path,\n",
        "            f'{model_object.name}.csv'\n",
        "        )\n",
        "        for model_name, model_object in MODELS.items()\n",
        "    },\n",
        "    metrics_='mae'\n",
        ")"
      ],
      "metadata": {
        "id": "tZr4iYOgsutS",
        "outputId": "e86ecb07-3889-43ec-c72a-e94ab80de378",
        "colab": {
          "base_uri": "https://localhost:8080/",
          "height": 295
        }
      },
      "execution_count": 146,
      "outputs": [
        {
          "output_type": "display_data",
          "data": {
            "text/plain": [
              "<Figure size 432x288 with 1 Axes>"
            ],
            "image/png": "[encoded data removed]"
          },
          "metadata": {
            "needs_background": "light"
          }
        }
      ]
    }
  ]
}