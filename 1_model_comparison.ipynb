{
  "nbformat": 4,
  "nbformat_minor": 0,
  "metadata": {
    "colab": {
      "provenance": [],
      "authorship_tag": "ABX9TyMoS/dMM2rs6CxRLWHA62Vk",
      "include_colab_link": true
    },
    "kernelspec": {
      "name": "python3",
      "display_name": "Python 3"
    },
    "language_info": {
      "name": "python"
    },
    "gpuClass": "standard"
  },
  "cells": [
    {
      "cell_type": "markdown",
      "metadata": {
        "id": "view-in-github",
        "colab_type": "text"
      },
      "source": [
        "<a href=\"https://colab.research.google.com/github/PashaIanko/Kaggle.CrowdCounting/blob/saving_training_output/1_model_comparison.ipynb\" target=\"_parent\"><img src=\"https://colab.research.google.com/assets/colab-badge.svg\" alt=\"Open In Colab\"/></a>"
      ]
    },
    {
      "cell_type": "markdown",
      "source": [
        "# Imports"
      ],
      "metadata": {
        "id": "neuR_JGoSki5"
      }
    },
    {
      "cell_type": "code",
      "execution_count": 14,
      "metadata": {
        "id": "yVusG7IwSfWU"
      },
      "outputs": [],
      "source": [
        "from tensorflow.keras.preprocessing.image import ImageDataGenerator\n",
        "from google.colab import drive\n",
        "import os\n",
        "import pandas as pd\n",
        "import numpy as np\n",
        "import matplotlib.pyplot as plt\n",
        "from sklearn.model_selection import train_test_split\n",
        "from abc import ABC, abstractmethod"
      ]
    },
    {
      "cell_type": "markdown",
      "source": [
        "# PEP8 standard"
      ],
      "metadata": {
        "id": "7qM_UgFLSqcF"
      }
    },
    {
      "cell_type": "code",
      "source": [
        "%%capture \n",
        "try: \n",
        "    from nbpep8.nbpep8 import pep8 \n",
        "except ModuleNotFoundError: \n",
        "    !pip install pycodestyle \n",
        "    !pip install --index-url https://test.pypi.org/simple/ nbpep8\n",
        "from nbpep8.nbpep8 import pep8"
      ],
      "metadata": {
        "id": "n3jjfuPNSrY4"
      },
      "execution_count": 1,
      "outputs": []
    },
    {
      "cell_type": "markdown",
      "source": [
        "# Custom packages"
      ],
      "metadata": {
        "id": "Dr5iOQgfStF9"
      }
    },
    {
      "cell_type": "code",
      "source": [
        "%%capture\n",
        "def download_files(url_dict):\n",
        "    for file, url in url_dict.items():\n",
        "        print(f'Downloading {file}')\n",
        "        !wget -O {file} {url} {file}\n",
        "\n",
        "git_download_path = \\\n",
        "'https://raw.githubusercontent.com/PashaIanko/Sklearn-Utils/main/'\n",
        "\n",
        "files = [\n",
        "    'path_manager.py',\n",
        "    'sklearn_transformers.py',\n",
        "    'sklearn_utils.py'\n",
        "]\n",
        "\n",
        "url_dict = {file: git_download_path + file for file in files}\n",
        "download_files(url_dict)"
      ],
      "metadata": {
        "id": "cv1XS4e8SsSj"
      },
      "execution_count": 2,
      "outputs": []
    },
    {
      "cell_type": "code",
      "source": [
        "import importlib\n",
        "import path_manager\n",
        "import sklearn_utils\n",
        "\n",
        "def reload_all(modules_list_):\n",
        "    for module in modules_list_:\n",
        "        importlib.reload(module)\n",
        "\n",
        "reload_all(\n",
        "    [\n",
        "        path_manager,\n",
        "        sklearn_utils\n",
        "        # other modules\n",
        "    ]\n",
        ")\n",
        "\n",
        "from path_manager import PathManager"
      ],
      "metadata": {
        "id": "_RDScb8wSvVT"
      },
      "execution_count": 3,
      "outputs": []
    },
    {
      "cell_type": "markdown",
      "source": [
        "# Setup paths"
      ],
      "metadata": {
        "id": "ZkKxmfS9SznR"
      }
    },
    {
      "cell_type": "code",
      "source": [
        "drive.mount('/content/gdrive', force_remount=True)\n",
        "gdrive_path = '/content/gdrive/MyDrive/'\n",
        "\n",
        "PREPROC_TRIAL = 1\n",
        "MODELS_TRIAL = 1\n",
        "COMPETITION_PATH = gdrive_path + 'ML/Competitions/7.CrowdCounting/'\n",
        "\n",
        "manager = PathManager(\n",
        "    competition_path=COMPETITION_PATH,\n",
        "    preprocessing_trial=PREPROC_TRIAL,\n",
        "    models_trial=MODELS_TRIAL\n",
        ")\n",
        "\n",
        "manager.setup_paths()"
      ],
      "metadata": {
        "colab": {
          "base_uri": "https://localhost:8080/"
        },
        "id": "CGZstgihSwbl",
        "outputId": "ccd9bb54-1cd4-4b04-f3fa-0723a3d62125"
      },
      "execution_count": 5,
      "outputs": [
        {
          "output_type": "stream",
          "name": "stdout",
          "text": [
            "Mounted at /content/gdrive\n",
            "/content/gdrive/MyDrive/ML/Competitions/7.CrowdCounting/Data/preproc_trial_1 already exists\n",
            "/content/gdrive/MyDrive/ML/Competitions/7.CrowdCounting/Models/trial_1 already exists\n"
          ]
        }
      ]
    },
    {
      "cell_type": "markdown",
      "source": [
        "# Helper functions"
      ],
      "metadata": {
        "id": "EEhgFmlqS9at"
      }
    },
    {
      "cell_type": "code",
      "source": [],
      "metadata": {
        "id": "z-pCnSLMS6hH"
      },
      "execution_count": null,
      "outputs": []
    },
    {
      "cell_type": "markdown",
      "source": [
        "# Data split"
      ],
      "metadata": {
        "id": "fWzz3eYVTC9j"
      }
    },
    {
      "cell_type": "code",
      "source": [
        "frames_directory = os.path.join(manager.data_root_path, 'frames')\n",
        "labels_df = pd.read_csv(os.path.join(manager.data_root_path, 'labels.csv'))\n",
        "labels_df['image_name'] = labels_df['id'].map('seq_{:06d}.jpg'.format)\n",
        "print(labels_df.head(1))"
      ],
      "metadata": {
        "colab": {
          "base_uri": "https://localhost:8080/"
        },
        "id": "-5KTBAI5TD0q",
        "outputId": "b7584e0c-2e44-4913-8c9f-4f1427c26360"
      },
      "execution_count": 10,
      "outputs": [
        {
          "output_type": "stream",
          "name": "stdout",
          "text": [
            "   id  count      image_name\n",
            "0   1     35  seq_000001.jpg\n"
          ]
        }
      ]
    },
    {
      "cell_type": "code",
      "source": [],
      "metadata": {
        "id": "WSc9xW6kTRAG"
      },
      "execution_count": 12,
      "outputs": []
    },
    {
      "cell_type": "code",
      "source": [
        "TRAINVAL_SIZE = 0.2  # 0.8\n",
        "RANDOM_STATE = 42\n",
        "\n",
        "trainval_labels_df, test_labels_df = train_test_split(\n",
        "    labels_df,\n",
        "    train_size=TRAINVAL_SIZE,\n",
        "    random_state=RANDOM_STATE,\n",
        ")\n",
        "trainval_labels_df.shape, test_labels_df.shape"
      ],
      "metadata": {
        "colab": {
          "base_uri": "https://localhost:8080/"
        },
        "id": "6eQnulCETFGW",
        "outputId": "d41a2083-d35d-47fb-eafc-b4bea1f4af02"
      },
      "execution_count": 13,
      "outputs": [
        {
          "output_type": "execute_result",
          "data": {
            "text/plain": [
              "((400, 3), (1600, 3))"
            ]
          },
          "metadata": {},
          "execution_count": 13
        }
      ]
    },
    {
      "cell_type": "markdown",
      "source": [
        "# Classes definition"
      ],
      "metadata": {
        "id": "juSMgE8UTZ6B"
      }
    },
    {
      "cell_type": "code",
      "source": [
        "from tensorflow.keras.models import Model\n",
        "\n",
        "class NNModel(ABC):\n",
        "    def __init__(\n",
        "        self,\n",
        "        name_,\n",
        "        input_image_size_,\n",
        "        validation_split_,\n",
        "        batch_size_,\n",
        "        trainval_labels_df_,\n",
        "        test_labels_df_\n",
        "    ):\n",
        "        self.random_state = 42\n",
        "        self.name = name_\n",
        "        self.input_image_size = input_image_size_\n",
        "        self.validation_split = validation_split_\n",
        "        self.batch_size = batch_size_\n",
        "\n",
        "\n",
        "        self.data_generator_parameters = None\n",
        "        self.train_generator = None\n",
        "        self.validation_generator = None\n",
        "        self.test_generator = None\n",
        "        self.model = None\n",
        "        self.init_data_generator_parameters()\n",
        "        self.init_data_generators(\n",
        "            trainval_labels_df_,\n",
        "            test_labels_df_\n",
        "        )\n",
        "    \n",
        "    def __repr__(self):\n",
        "        return f'''\n",
        "            {\n",
        "                self.random_state,\n",
        "                self.name,\n",
        "                self.input_image_size,\n",
        "                self.validation_split,\n",
        "                self.batch_size\n",
        "            }\n",
        "        '''\n",
        "    @abstractmethod\n",
        "    def init_data_generator_parameters(self):\n",
        "        # Augmentation / preprocessing parameters\n",
        "        pass\n",
        "    \n",
        "    def init_data_generators(self, trainval_labels_df_, test_labels_df_):\n",
        "        trainval_data_generator = ImageDataGenerator(\n",
        "            **self.data_generator_parameters,\n",
        "            validation_split=self.validation_split)\n",
        "\n",
        "        test_data_generator = ImageDataGenerator(\n",
        "            **self.data_generator_parameters)\n",
        "        \n",
        "        common_flow_params = dict(\n",
        "            directory=frames_directory,\n",
        "            x_col='image_name',\n",
        "            y_col='count',\n",
        "            target_size=self.input_image_size,\n",
        "            color_mode='rgb',\n",
        "            class_mode='raw',\n",
        "            batch_size=self.batch_size,\n",
        "            shuffle=True,\n",
        "            seed=self.random_state\n",
        "        )\n",
        "\n",
        "        self.train_generator = trainval_data_generator.flow_from_dataframe(\n",
        "            **common_flow_params,\n",
        "            subset='training',\n",
        "            dataframe=trainval_labels_df_\n",
        "        )\n",
        "\n",
        "        self.validation_generator = trainval_data_generator.flow_from_dataframe(\n",
        "            **common_flow_params,\n",
        "            subset='validation',\n",
        "            dataframe=trainval_labels_df_\n",
        "        )\n",
        "\n",
        "        self.test_generator = test_data_generator.flow_from_dataframe(\n",
        "            **common_flow_params,\n",
        "            dataframe=test_labels_df_\n",
        "        )\n",
        "\n",
        "    def visualize_data(self):\n",
        "        X_batch, Y_batch = next(self.train_generator)\n",
        "        print(X_batch.shape, np.max(X_batch), np.min(X_batch))\n",
        "\n",
        "        _, ax = plt.subplots(3, 3)\n",
        "        ax = ax.flatten()\n",
        "        for i in range(9):\n",
        "            ax[i].imshow(X_batch[i])\n",
        "            ax[i].set_title(Y_batch[i])\n",
        "            ax[i].axis('off')\n",
        "\n",
        "        _, ax_hist = plt.subplots()\n",
        "        ax.hist.hist(Y_batch)\n",
        "        \n",
        "    @abstractmethod\n",
        "    def prepare_model(self):\n",
        "        pass\n",
        "\n",
        "    def compile_model(self):\n",
        "        self.model.compile(\n",
        "            optimizer=tf.keras.optimizers.Adam(learning_rate=0.001),\n",
        "            loss='mse',\n",
        "            metrics=['mse', 'mae']\n",
        "        )\n",
        "\n",
        "    def unfreeze_n_layers(self, n_layers_to_freeze_):\n",
        "        assert n_layers_to_freeze_ > 0\n",
        "\n",
        "        for layer in self.model.layers[:-n_layers_to_freeze_]:\n",
        "            layer.trainable = False\n",
        "        for layer in self.model.layers[-n_layers_to_freeze_:]:\n",
        "            layer.trainable = True\n",
        "    \n",
        "    def fit(self, epochs_, callbacks_):\n",
        "        self.learning_history = self.model.fit_generator(\n",
        "            self.train_generator,\n",
        "            validation_data=self.validation_generator,\n",
        "            epochs=epochs_,\n",
        "            callbacks=callbacks_\n",
        "        )\n",
        "        return self.learning_history"
      ],
      "metadata": {
        "id": "vjE28uf3TQHa"
      },
      "execution_count": 21,
      "outputs": []
    },
    {
      "cell_type": "code",
      "source": [
        "from tensorflow.keras.applications import resnet50\n",
        "import tensorflow as tf\n",
        "from tensorflow.keras.layers import (\n",
        "    Dense,\n",
        "    Dropout,\n",
        "    Flatten,\n",
        "\n",
        ")\n",
        "\n",
        "class ResNetModel(NNModel):\n",
        "    def __init__(self, *args, **kwargs):\n",
        "        super().__init__(*args, **kwargs)\n",
        "    \n",
        "    def init_data_generator_parameters(self):\n",
        "        \n",
        "        self.data_generator_parameters = dict(\n",
        "            rescale=None,  # 1./255,\n",
        "            preprocessing_function=tf.keras.applications.resnet50.preprocess_input\n",
        "        )\n",
        "    \n",
        "    def prepare_model(self):\n",
        "        feature_extractor = resnet50.ResNet50(\n",
        "            weights='imagenet',\n",
        "            pooling='avg',\n",
        "            input_shape=(224, 224, 3),\n",
        "            include_top=False\n",
        "        )\n",
        "        x = feature_extractor.output\n",
        "        x = Dense(units=400, activation='relu')(x)\n",
        "        x = Dropout(0.3)(x)\n",
        "        x = Dense(units=400, activation='relu')(x)\n",
        "        x = Dropout(0.3)(x)\n",
        "        outputs = Dense(units=1, activation='linear')(x)\n",
        "\n",
        "        self.model = Model(\n",
        "            inputs=feature_extractor.input,\n",
        "            outputs=outputs\n",
        "        )"
      ],
      "metadata": {
        "id": "QDhcM5UCTkkE"
      },
      "execution_count": 22,
      "outputs": []
    },
    {
      "cell_type": "markdown",
      "source": [
        "# ResNet baseline evaluation"
      ],
      "metadata": {
        "id": "qxFqBopWUGSQ"
      }
    },
    {
      "cell_type": "code",
      "source": [
        "resnet = ResNetModel(\n",
        "    name_='resnet',\n",
        "    input_image_size_=(224, 224),\n",
        "    validation_split_=0.95,  # fraction of images, reserved for validation\n",
        "    batch_size_=64,\n",
        "    trainval_labels_df_=trainval_labels_df,\n",
        "    test_labels_df_=test_labels_df\n",
        ")\n",
        "\n",
        "resnet.prepare_model()\n",
        "resnet.compile_model()"
      ],
      "metadata": {
        "colab": {
          "base_uri": "https://localhost:8080/"
        },
        "id": "ok-dhz2JTl_5",
        "outputId": "fb261f31-e424-45be-9b2b-073b8eb464b6"
      },
      "execution_count": 23,
      "outputs": [
        {
          "output_type": "stream",
          "name": "stdout",
          "text": [
            "Found 20 validated image filenames.\n",
            "Found 380 validated image filenames.\n",
            "Found 1600 validated image filenames.\n",
            "Downloading data from https://storage.googleapis.com/tensorflow/keras-applications/resnet/resnet50_weights_tf_dim_ordering_tf_kernels_notop.h5\n",
            "94765736/94765736 [==============================] - 4s 0us/step\n"
          ]
        }
      ]
    },
    {
      "cell_type": "code",
      "source": [
        "resnet.model.load_weights(\n",
        "    os.path.join(\n",
        "        manager.models_trial_path,\n",
        "        resnet.name,\n",
        "        resnet.name\n",
        "    )\n",
        ")"
      ],
      "metadata": {
        "colab": {
          "base_uri": "https://localhost:8080/"
        },
        "id": "uO20kPmPULKB",
        "outputId": "8e0b8195-91dd-436b-fa4c-b41588b03593"
      },
      "execution_count": 24,
      "outputs": [
        {
          "output_type": "execute_result",
          "data": {
            "text/plain": [
              "<tensorflow.python.training.tracking.util.CheckpointLoadStatus at 0x7f39e9f34c10>"
            ]
          },
          "metadata": {},
          "execution_count": 24
        }
      ]
    },
    {
      "cell_type": "code",
      "source": [
        "resnet.model.evaluate(resnet.validation_generator)"
      ],
      "metadata": {
        "colab": {
          "base_uri": "https://localhost:8080/"
        },
        "id": "WfWkoZNlUS-C",
        "outputId": "fcd9c842-933c-4ce4-d7d8-13e55a280b09"
      },
      "execution_count": 26,
      "outputs": [
        {
          "output_type": "stream",
          "name": "stdout",
          "text": [
            "6/6 [==============================] - 201s 37s/step - loss: 934.9418 - mse: 934.9418 - mae: 29.8802\n"
          ]
        },
        {
          "output_type": "execute_result",
          "data": {
            "text/plain": [
              "[934.9417724609375, 934.9417724609375, 29.880239486694336]"
            ]
          },
          "metadata": {},
          "execution_count": 26
        }
      ]
    },
    {
      "cell_type": "code",
      "source": [
        "def plot_history(csv_filepaths_dict_, metrics_):\n",
        "    _, ax = plt.subplots()\n",
        "\n",
        "    for model_name, path in csv_filepaths_dict_.items():\n",
        "        assert os.path.isfile(path)\n",
        "        df = pd.read_csv(path)\n",
        "        ax.plot(df[metrics_], label=f'{model_name} {metrics_}')\n",
        "        ax.plot(df[f'val_{metrics_}'], label=f'{model_name} val_{metrics_}')\n",
        "    \n",
        "    ax.set_ylabel(f'Learning curve for {metrics_}')\n",
        "    ax.set_xlabel(f'Epoch')\n",
        "    ax.grid()\n",
        "    ax.legend()"
      ],
      "metadata": {
        "id": "sdGlefnVUpnc"
      },
      "execution_count": 36,
      "outputs": []
    },
    {
      "cell_type": "code",
      "source": [
        "plot_history(\n",
        "    {\n",
        "        'resnet': os.path.join(manager.models_trial_path, 'resnet.csv')\n",
        "    },\n",
        "    metrics_='loss'\n",
        ")"
      ],
      "metadata": {
        "colab": {
          "base_uri": "https://localhost:8080/",
          "height": 505
        },
        "id": "5PWZpsMyVPG7",
        "outputId": "6e604c71-4538-48de-bb82-4cd8891d5044"
      },
      "execution_count": 37,
      "outputs": [
        {
          "output_type": "stream",
          "name": "stdout",
          "text": [
            "   Unnamed: 0        loss         mse        mae    val_loss     val_mse  \\\n",
            "0           0  910.997742  910.997742  29.431988  969.539856  969.539856   \n",
            "1           1  904.507629  904.507629  29.327351  960.773621  960.773621   \n",
            "2           2  879.655457  879.655457  28.979349  952.098755  952.098755   \n",
            "3           3  905.028137  905.028137  29.345654  943.493408  943.493408   \n",
            "4           4  884.234070  884.234070  28.964701  934.941711  934.941711   \n",
            "\n",
            "     val_mae     lr  \n",
            "0  30.450390  0.001  \n",
            "1  30.306944  0.001  \n",
            "2  30.164328  0.001  \n",
            "3  30.022175  0.001  \n",
            "4  29.880238  0.001  \n"
          ]
        },
        {
          "output_type": "display_data",
          "data": {
            "text/plain": [
              "<Figure size 432x288 with 1 Axes>"
            ],
            "image/png": "[encoded data removed]"
          },
          "metadata": {
            "needs_background": "light"
          }
        }
      ]
    }
  ]
}